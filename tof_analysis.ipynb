{
 "metadata": {
  "name": "tof_analysis"
 },
 "nbformat": 3,
 "nbformat_minor": 0,
 "worksheets": [
  {
   "cells": [
    {
     "cell_type": "code",
     "collapsed": false,
     "input": [
      "#pylab mode\n",
      "#remove the option inline to open plot windows using the selected gui backend. Induvidual graphs can stille be embedded using display(youfigure) \n",
      "%pylab inline \n",
      "#some imports for convenience\n",
      "from __future__ import division\n",
      "from lmfit import lmfit\n",
      "import scipy.constants as const\n",
      "#import the real thing\n",
      "from tof_analysis import *\n",
      "#some typesetting preferences\n",
      "matplotlib.rcParams.update({'font.size': 14, 'font.family': 'serif'})"
     ],
     "language": "python",
     "metadata": {},
     "outputs": []
    },
    {
     "cell_type": "heading",
     "level": 1,
     "metadata": {},
     "source": [
      "Determination of Surface Position"
     ]
    },
    {
     "cell_type": "markdown",
     "metadata": {},
     "source": [
      "Assuming we have measured the transmitted IR Laser Power $I$ as a function of the Surface Position $Y_\\mathrm{S}$. \n",
      "\n",
      "The \"SurfacePosMeas\" class is designed to handle such a dataset. Its constructor's call signature is "
     ]
    },
    {
     "cell_type": "raw",
     "metadata": {},
     "source": [
      "SurfacePosMeas(Y=[], Power=[], IRPos=7)"
     ]
    },
    {
     "cell_type": "markdown",
     "metadata": {},
     "source": [
      "where IRPos is the horizontal Position of the IR Laser on the Beamtool (in div) during the Surface Position Measurement."
     ]
    },
    {
     "cell_type": "code",
     "collapsed": false,
     "input": [
      "Y = np.linspace(33, 35, 11) #Create a list of 11 equally spaced numbers from 33 to 35.\n",
      "Power = [16.9, 16.9, 16.8, 16.6, 16.1, 13, 6.9, 2.5, 1.12, 0.63, 0.4] #Create a list of the measured IR Power corresponding to Y \n",
      "PosMeas1 = SurfacePosMeas(Y, Power) #Create an instance of the SurfacePosMeas class"
     ],
     "language": "python",
     "metadata": {},
     "outputs": []
    },
    {
     "cell_type": "markdown",
     "metadata": {},
     "source": [
      "As one can see, the class automatically normalizes the data and fits it to a conjugate errorfunction yielding the surface position. Called like above, the Constructor recieves an IR Laser position of +7 div on the beamtool as default value. This can be changed easily:"
     ]
    },
    {
     "cell_type": "code",
     "collapsed": false,
     "input": [
      "PosMeas2 = SurfacePosMeas(Y, Power, IRPos=6)"
     ],
     "language": "python",
     "metadata": {},
     "outputs": []
    },
    {
     "cell_type": "markdown",
     "metadata": {},
     "source": [
      "Of course nothing changes in the plot or the fit since IRPos does not matter here, it comes into play when calculating the different distances occuring in the actual experiment."
     ]
    },
    {
     "cell_type": "code",
     "collapsed": false,
     "input": [
      "print PosMeas1.Y0 #The Surface Position determined from the fit\n",
      "print PosMeas1.IRPos\n",
      "print PosMeas1.Y"
     ],
     "language": "python",
     "metadata": {},
     "outputs": []
    },
    {
     "cell_type": "code",
     "collapsed": false,
     "input": [
      "print PosMeas1.Irel"
     ],
     "language": "python",
     "metadata": {},
     "outputs": []
    },
    {
     "cell_type": "markdown",
     "metadata": {},
     "source": [
      "The SurfacePosMeas class instance contains its own lmfit instance from which all attributes and properties are available:"
     ]
    },
    {
     "cell_type": "code",
     "collapsed": false,
     "input": [
      "print PosMeas1.fit.P #print the fit parameters ...\n",
      "print PosMeas1.fit.StdDev #and their standard deviations"
     ],
     "language": "python",
     "metadata": {},
     "outputs": []
    },
    {
     "cell_type": "code",
     "collapsed": false,
     "input": [
      "PosMeas1.fit.report()"
     ],
     "language": "python",
     "metadata": {},
     "outputs": []
    },
    {
     "cell_type": "code",
     "collapsed": false,
     "input": [
      "print PosMeas1.fit.full_results\n",
      "print 'RMS of Chi^2: %f' % PosMeas1.fit.full_results['RMSChi2'] # access Dictionary value for key 'RMSChi2' "
     ],
     "language": "python",
     "metadata": {},
     "outputs": []
    },
    {
     "cell_type": "code",
     "collapsed": false,
     "input": [
      "PosMeas1.fit.plot() #Analysis Plots for the fit (kind of silly here...)"
     ],
     "language": "python",
     "metadata": {},
     "outputs": []
    },
    {
     "cell_type": "heading",
     "level": 1,
     "metadata": {},
     "source": [
      "Beamer Setup"
     ]
    },
    {
     "cell_type": "markdown",
     "metadata": {},
     "source": [
      "The Positions and finally the distances in the tagging experiment are calculated by the \"TaggingSetup\" class. It is constructed as "
     ]
    },
    {
     "cell_type": "raw",
     "metadata": {},
     "source": [
      " TaggingSetup(self, Positions={'IR': (7,0), 'REMPI': 0,'Center ZRM': 5.1, 'ZRM': 3.5, 'Surface Y': None}, SurfacePosMeas=None, visualize=False):"
     ]
    },
    {
     "cell_type": "markdown",
     "metadata": {},
     "source": [
      "The \"Position\" argument is a dictionary containing all relevant Positions. If \"SurfacePosMeas\" stays \"None\", then tagging of the molecules on the way back is assumed and the direct distance between IR and REMPI Laser is calculated.\n",
      "\n",
      "If \"SurfacePosMeas\" argument is an instance of the SurfacePosMeas class (like the one in the upper section) then the actual Surface Position is and all other distances are calculated."
     ]
    },
    {
     "cell_type": "code",
     "collapsed": false,
     "input": [
      "Positions={'IR': (7,0), 'REMPI': 0, 'Center ZRM': 5.1, 'ZRM': 3.5, 'Surface Y': 33.6} #Create dictionary with Positions\n",
      "Setup1 = TaggingSetup(Positions, SurfacePosMeas=PosMeas1, visualize=True) #Create instance of TaggingSetup class"
     ],
     "language": "python",
     "metadata": {},
     "outputs": []
    },
    {
     "cell_type": "code",
     "collapsed": false,
     "input": [
      "Setup1.savefig('Setup1.pdf') # save the graph"
     ],
     "language": "python",
     "metadata": {},
     "outputs": []
    },
    {
     "cell_type": "code",
     "collapsed": false,
     "input": [
      "print Setup1.FlightLength #the actual flight distance"
     ],
     "language": "python",
     "metadata": {},
     "outputs": []
    },
    {
     "cell_type": "code",
     "collapsed": false,
     "input": [
      "Setup1.show() #write everything to the standard output"
     ],
     "language": "python",
     "metadata": {},
     "outputs": []
    },
    {
     "cell_type": "code",
     "collapsed": false,
     "input": [
      "print Setup1.distances\n",
      "print Setup1.distances['IR-S-MPI'] == Setup1.FlightLength"
     ],
     "language": "python",
     "metadata": {},
     "outputs": []
    },
    {
     "cell_type": "heading",
     "level": 1,
     "metadata": {},
     "source": [
      "TOF Analysis"
     ]
    },
    {
     "cell_type": "heading",
     "level": 2,
     "metadata": {},
     "source": [
      "The TOFSpectrum class"
     ]
    },
    {
     "cell_type": "markdown",
     "metadata": {},
     "source": [
      "We will now look at some data from June 4th 2013\n",
      "\n",
      "First the Setup:"
     ]
    },
    {
     "cell_type": "code",
     "collapsed": false,
     "input": [
      "Positions={'IR': (7,0), 'REMPI': -4, 'Center ZRM': 5.1, 'ZRM': 3.5} #Create dictionary with Positions\n",
      "Setup = TaggingSetup(Positions, visualize=True) #Create instance of TaggingSetup class"
     ],
     "language": "python",
     "metadata": {},
     "outputs": []
    },
    {
     "cell_type": "markdown",
     "metadata": {},
     "source": [
      "The TOFSpectrum class is designed to handle one TOF data file and analyze it. It's constructor's signatur is "
     ]
    },
    {
     "cell_type": "raw",
     "metadata": {},
     "source": [
      "TOFSpectrum(Setup, filename, IRDelay, subtract=None, mode='Flux_vs_TOF', mass=28, verbose=False, plot=False, fit=True, baseavg=20)"
     ]
    },
    {
     "cell_type": "markdown",
     "metadata": {},
     "source": [
      "verbose and plot simply trigger the the report and the plot from the lmfit class, fit argument controls whether the Data is automatically fitted or not.\n",
      "\n",
      "Also available as modes are:\n",
      "'Flux_vs_TOF', 'Flux_vs_v', 'Flux_vs_E', 'Density_vs_v'\n",
      "\n",
      "---\n",
      "\n",
      "The Data is treated as follows:\n",
      "\n",
      "1. The raw data is loaded from file specified by filename\n",
      "2. TOF is converted to $\\mu$s, IRDelay is subtracted and an offset of 400 $\\mu$s is added\n",
      "3. The Baseline is subtracted from the Signal\n",
      "4. The resulting Table is sorted along the TOF axis\n",
      "5. If there are negative TOF values, these are omitted\n",
      "6. TOF data gets inverted to yield the velocity $v = l/TOF$ in m/s and energy $E=\\frac{1}{2}mv^2$ in eV. The length $l$ is taken from the Setup instance passed to the constructor\n",
      "7. A baseline vertical offset is subtracted from the Signal. This offset is taken as the average of the first (baseavg=20) data points.\n",
      "8. A Density to Flux transformation yields the (normalized) Flux $F = \\mathrm{SIGNAL} \\cdot v$\n",
      "\n",
      "---\n",
      "\n",
      "Fitting:\n",
      "\n",
      "Data is fit through the Levenberg-Marquardt algorithm. The following functions are used depending on the mode:\n",
      "\n",
      "$$F(t) = F_0 \\  \\left( \\frac{l}{t} \\right)^4\\mathrm{e}^{- \\left(\\frac{l}{\\alpha}\\right)^2 \\left(\\frac{1}{t} - \\frac{1}{t_0} \\right)^2}$$\n",
      "\n",
      "$$F(v) = F_0\\ v^3\\ \\mathrm{e}^{-(v-v_0)^2/\\alpha} $$\n",
      "\n",
      "$$ F(E) = \\frac{F_0}{m^2} E\\ \\mathrm{e}^{- \\frac{2}{m\\alpha^2} \\left( \\sqrt{E} - \\sqrt{E_0} \\right)}$$\n",
      "\n",
      "$$ I(v) = I_0\\ v^2\\ \\mathrm{e}^{-(v-v_0)^2/\\alpha} $$"
     ]
    },
    {
     "cell_type": "code",
     "collapsed": false,
     "input": [
      "file0406002 = TOFSpectrum(Setup, 'testdata/0406002.dat', 663, plot=True, verbose=True)"
     ],
     "language": "python",
     "metadata": {},
     "outputs": []
    },
    {
     "cell_type": "markdown",
     "metadata": {},
     "source": [
      "The Setup is also always available..."
     ]
    },
    {
     "cell_type": "code",
     "collapsed": false,
     "input": [
      "file0406002.Setup.visualize()"
     ],
     "language": "python",
     "metadata": {},
     "outputs": []
    },
    {
     "cell_type": "markdown",
     "metadata": {},
     "source": [
      "Same is true for the fit..."
     ]
    },
    {
     "cell_type": "code",
     "collapsed": false,
     "input": [
      "file0406002.Fit.P"
     ],
     "language": "python",
     "metadata": {},
     "outputs": []
    },
    {
     "cell_type": "code",
     "collapsed": false,
     "input": [
      "file0406002.plot() #The plot function of TOFSpectrum class ..."
     ],
     "language": "python",
     "metadata": {},
     "outputs": []
    },
    {
     "cell_type": "code",
     "collapsed": false,
     "input": [
      "file0406002.Fit.plot() #vs. the plot function of lmfit class"
     ],
     "language": "python",
     "metadata": {},
     "outputs": []
    },
    {
     "cell_type": "markdown",
     "metadata": {},
     "source": [
      "Same file, different mode..."
     ]
    },
    {
     "cell_type": "code",
     "collapsed": false,
     "input": [
      "file0406002 = TOFSpectrum(Setup, 'testdata/0406002.dat', 663, mode='Flux_vs_E')\n",
      "file0406002.plot()"
     ],
     "language": "python",
     "metadata": {},
     "outputs": []
    },
    {
     "cell_type": "markdown",
     "metadata": {},
     "source": [
      "The TOFSpectrum class also holds an instance of the figure and axes objects from matplotlib..."
     ]
    },
    {
     "cell_type": "code",
     "collapsed": false,
     "input": [
      "file0406002.savefig('file0406002.svg') #save graph as svg vector image\n",
      "file0406002.savefig('file0406002.pdf') # or pdf ... or eps... or... c.f. matplotlib reference for available graphic formats"
     ],
     "language": "python",
     "metadata": {},
     "outputs": []
    },
    {
     "cell_type": "code",
     "collapsed": false,
     "input": [
      "file0406002.set_mode('Flux_vs_v') #change mode (but its better to create a new TOFSpectrum instance for that)\n",
      "file0406002.fit()\n",
      "file0406002.plot()"
     ],
     "language": "python",
     "metadata": {},
     "outputs": []
    },
    {
     "cell_type": "code",
     "collapsed": false,
     "input": [
      "file0406002.set_mode('Flux_vs_E') #switch back to Energy\n",
      "file0406002.fit()\n",
      "file0406002.plot() #instances of matplotlib.figure and axes exist only when TOFSpectrum.plot() was calles before at some point\n",
      "file0406002.axes.set_xlim((0,3)) #set xaxis limits. TOFSpectrum.axes gives you full access to the graphs properties\n",
      "display(file0406002.fig) # show figure object in inline mode"
     ],
     "language": "python",
     "metadata": {},
     "outputs": []
    },
    {
     "cell_type": "markdown",
     "metadata": {},
     "source": [
      "The first three moments around 0 of the fit function can be calculated. Those are derived by numerical integration from 0 to $\\infty$ using scipy.integrate.quad().\n",
      "$$ \\langle x^n \\rangle = \\int\\limits_0^\\infty x^n f(x) \\ \\mathrm{d} x $$\n",
      "where $n=0,1,2$."
     ]
    },
    {
     "cell_type": "code",
     "collapsed": false,
     "input": [
      "moments, mean, variance = file0406002.Moments\n",
      "print moments # moments with numerical integration errors"
     ],
     "language": "python",
     "metadata": {},
     "outputs": []
    },
    {
     "cell_type": "markdown",
     "metadata": {},
     "source": [
      "The Mean and the Mean Squared values of the distributions can be calculated:\n",
      "\n",
      "$$\\langle x \\rangle = \\frac{\\int\\limits_0^\\infty xf(x) \\ \\mathrm{d} x}{\\int\\limits_0^\\infty f(x) \\ \\mathrm{d}x} $$\n",
      "$$\\langle x^2 \\rangle = \\frac{\\int\\limits_0^\\infty x^2f(x) \\ \\mathrm{d} x}{\\int\\limits_0^\\infty f(x) \\ \\mathrm{d}x} $$"
     ]
    },
    {
     "cell_type": "code",
     "collapsed": false,
     "input": [
      "print mean    \n",
      "print variance\n",
      "RMS = sqrt(variance)\n",
      "print RMS"
     ],
     "language": "python",
     "metadata": {},
     "outputs": []
    },
    {
     "cell_type": "markdown",
     "metadata": {},
     "source": [
      "This works as well in other modes..."
     ]
    },
    {
     "cell_type": "code",
     "collapsed": false,
     "input": [
      "file0406002_v = TOFSpectrum(Setup, 'testdata/0406002.dat', 663, mode='Flux_vs_v')\n",
      "file0406002_v.plot()"
     ],
     "language": "python",
     "metadata": {},
     "outputs": []
    },
    {
     "cell_type": "code",
     "collapsed": false,
     "input": [
      "print file0406002_v.Moments[1]\n",
      "print sqrt(file0406002_v.Moments[2])"
     ],
     "language": "python",
     "metadata": {},
     "outputs": []
    },
    {
     "cell_type": "code",
     "collapsed": false,
     "input": [
      "file0406002_E = TOFSpectrum(Setup, 'testdata/0406002.dat', 663, mode='Flux_vs_E')\n",
      "file0406002_E.plot()\n",
      "file0406002_E.axes.set_xlim((0,1.5)) #set xaxis limits. TOFSpectrum.axes gives you full access to the graphs properties\n",
      "display(file0406002_E.fig) # show figure object in inline mode"
     ],
     "language": "python",
     "metadata": {},
     "outputs": []
    },
    {
     "cell_type": "code",
     "collapsed": false,
     "input": [
      "print file0406002_E.Fit.P\n",
      "print file0406002_E.Fit.StdDev"
     ],
     "language": "python",
     "metadata": {},
     "outputs": []
    },
    {
     "cell_type": "code",
     "collapsed": false,
     "input": [
      "P_Mean, P_StdDev, outlist = file0406002_E.Fit.bootstrap(n=500, plot=True)\n",
      "print P_Mean\n",
      "print P_StdDev\n",
      "fitfunc = file0406002.get_fitfunc() #get the current fitfunction\n",
      "E_Mean = np.array([None for i in outlist])\n",
      "E_RMS = np.array([None for i in outlist])\n",
      "i = 0\n",
      "for finalParamsDict in outlist: # iterate over the final parameters of the bootstrap fits\n",
      "    zeroth, first, second = Moments(fitfunc, [0,1,2], args=finalParamsDict)\n",
      "    E_Mean[i] = first[0]/zeroth[0]\n",
      "    E_RMS[i] = second[0]/zeroth[0]\n",
      "    i += 1\n",
      "print 'Mean Energy: (%f +/- %f) eV' %(E_Mean.mean(), E_Mean.std()) # maybe you want to use the standard error of the mean here instead of the standard deviation\n",
      "print 'RMS Energy: (%f +/- %f) eV' %(E_RMS.mean(), E_RMS.std())\n",
      "    "
     ],
     "language": "python",
     "metadata": {},
     "outputs": []
    },
    {
     "cell_type": "code",
     "collapsed": false,
     "input": [
      "file0406003 = TOFSpectrum(Setup, 'testdata/0406003.dat', 663)\n",
      "file0406003.plot()"
     ],
     "language": "python",
     "metadata": {},
     "outputs": []
    },
    {
     "cell_type": "markdown",
     "metadata": {},
     "source": [
      "Using TOFSpectrum for manual analysis:"
     ]
    },
    {
     "cell_type": "code",
     "collapsed": false,
     "input": [
      "TOF, Flux = file0406003.get_values()\n",
      "TOFslice, Fluxslice = file0406003.get_values(limits=(10,30))\n",
      "plot(TOF, Flux, 'bo')\n",
      "plot(TOFslice, Fluxslice, 'ro')\n",
      "fitfunc = file0406003.get_fitfunc()\n",
      "print fitfunc.func_code.co_varnames #inspect live object to see the variable names"
     ],
     "language": "python",
     "metadata": {},
     "outputs": []
    },
    {
     "cell_type": "code",
     "collapsed": false,
     "input": [
      "file0406003fit = lmfit(fitfunc, TOFslice, Fluxslice, p0={'F0':1, 'alpha': -0.2, 'x0':20}, verbose=False, plot=True, plot_options={'acf':False, 'lagplot':False})"
     ],
     "language": "python",
     "metadata": {},
     "outputs": []
    },
    {
     "cell_type": "code",
     "collapsed": false,
     "input": [
      "zeroth, first, second = Moments(file0406003fit, [0,1,2])\n",
      "mean = first[0]/zeroth[0]"
     ],
     "language": "python",
     "metadata": {},
     "outputs": []
    },
    {
     "cell_type": "code",
     "collapsed": false,
     "input": [
      "fig1 = figure(1)\n",
      "plot(TOF, Flux, 'bo')\n",
      "ylim((-0.01, 1.05))\n",
      "xlim((0,50))\n",
      "xlabel(r'$\\mathrm{TOF}\\ / \\ \\mu\\mathrm{s}$')\n",
      "ylabel(r'$\\mathrm{Normalized\\ Flux}$')\n",
      "plot(TOFslice, Fluxslice, 'ro')\n",
      "x = linspace(TOF[0], TOF[-1], 1000)\n",
      "plot(x, file0406003fit(x), 'r-', label=r'Fit')\n",
      "legend(loc='best')\n",
      "bar(mean, file0406003fit(mean), width=0.01)\n",
      "string = r'$\\langle \\mathrm{TOF} \\rangle =\\ %2.2f\\ \\mu\\mathrm{s}$' % mean\n",
      "annotate(string, xy=(25,0.6), xycoords='data')\n",
      "savefig('0406003manual.pdf')\n",
      "plt.show()"
     ],
     "language": "python",
     "metadata": {},
     "outputs": []
    },
    {
     "cell_type": "markdown",
     "metadata": {},
     "source": [
      "Dealing with Background:"
     ]
    },
    {
     "cell_type": "code",
     "collapsed": false,
     "input": [
      "Positions={'IR': (7,0), 'REMPI': -4, 'Center ZRM': 5.1, 'ZRM': 3.5, 'Surface Y': 33.6} #Create dictionary with Positions\n",
      "Setup3 = TaggingSetup(Positions, visualize=True) #Create instance of TaggingSetup class\n",
      "file0606028 = TOFSpectrum(Setup, 'testdata/0606028.dat', 654, fit=False)\n",
      "file0606029 = TOFSpectrum(Setup, 'testdata/0606029.dat', 654, fit=False)"
     ],
     "language": "python",
     "metadata": {},
     "outputs": []
    },
    {
     "cell_type": "code",
     "collapsed": false,
     "input": [
      "file0606028.RawData.plot()"
     ],
     "language": "python",
     "metadata": {},
     "outputs": []
    },
    {
     "cell_type": "code",
     "collapsed": false,
     "input": [
      "file0606029.RawData.plot()"
     ],
     "language": "python",
     "metadata": {},
     "outputs": []
    },
    {
     "cell_type": "code",
     "collapsed": false,
     "input": [
      "TOF = file0606029.RawData.TOF\n",
      "SIG = file0606029.RawData.Baseline-file0606029.RawData.Signal\n",
      "bgfit = polyfit(TOF, SIG, 5)\n",
      "print bgfit\n",
      "plot(TOF, SIG)\n",
      "x = linspace(xlim()[0], xlim()[1], 1000)\n",
      "plot(x, polyval(bgfit, x))\n",
      "show()"
     ],
     "language": "python",
     "metadata": {},
     "outputs": []
    },
    {
     "cell_type": "code",
     "collapsed": false,
     "input": [
      "Sig = file0606028.RawData.Baseline-file0606028.RawData.Signal - polyval(bgfit, file0606029.RawData.TOF)\n",
      "plot(file0606028.RawData.TOF, Sig, 'k-')\n",
      "show()"
     ],
     "language": "python",
     "metadata": {},
     "outputs": []
    },
    {
     "cell_type": "code",
     "collapsed": false,
     "input": [
      "savetxt('temp.dat', transpose(array([file0606028.RawData.TOF, -Sig, zeros(len(Sig))]))) # save to file, third column with zeros must be appended"
     ],
     "language": "python",
     "metadata": {},
     "outputs": []
    },
    {
     "cell_type": "code",
     "collapsed": false,
     "input": [
      "file0606028corr = TOFSpectrum(Setup3, 'temp.dat', 654, fit=False)\n",
      "file0606028corr.plot()"
     ],
     "language": "python",
     "metadata": {},
     "outputs": []
    },
    {
     "cell_type": "code",
     "collapsed": false,
     "input": [
      "TOF = file0606028corr.TOF\n",
      "Flux = file0606028corr.Flux\n",
      "TOFslice, Fluxslice = file0606028corr.get_values(limits=(10,160))\n",
      "plot(TOF, Flux, 'bo')\n",
      "plot(TOFslice, Fluxslice, 'ro')\n",
      "show()"
     ],
     "language": "python",
     "metadata": {},
     "outputs": []
    },
    {
     "cell_type": "code",
     "collapsed": false,
     "input": [
      "fitfunc = file0606028.get_fitfunc()\n",
      "file0606028corr_fit = lmfit(fitfunc, TOFslice, Fluxslice, p0={'F0':1, 'alpha':-0.2, 'x0':20}, verbose=False, plot=True)"
     ],
     "language": "python",
     "metadata": {},
     "outputs": []
    },
    {
     "cell_type": "code",
     "collapsed": false,
     "input": [
      "file0606028corr2 = TOFSpectrum(Setup3, 'temp.dat', 654, fit=False)\n",
      "file0606028corr2.fit(p0={'F0':1, 'alpha':-0.2, 'x0':20}, plot=False)\n",
      "file0606028corr2.plot()"
     ],
     "language": "python",
     "metadata": {},
     "outputs": []
    },
    {
     "cell_type": "heading",
     "level": 1,
     "metadata": {},
     "source": [
      "The MultiTOF class"
     ]
    },
    {
     "cell_type": "code",
     "collapsed": false,
     "input": [
      "files = [u'testdata/0406012.dat',\\\n",
      "      u'testdata/0406013.dat',\\\n",
      "      u'testdata/0406014.dat',\\\n",
      "      u'testdata/0406015.dat',\\\n",
      "      u'testdata/0406016.dat',\\\n",
      "      u'testdata/0406017.dat',\\\n",
      "      u'testdata/0406018.dat',\\\n",
      "      u'testdata/0406019.dat',\\\n",
      "      u'testdata/0406020.dat',\\\n",
      "      u'testdata/0406021.dat',\\\n",
      "      u'testdata/0406022.dat',\\\n",
      "      u'testdata/0406023.dat']\n",
      "descriptions = [r'$100\\ ^\\circ \\mathrm{C}$',\\\n",
      "      r'$200\\ ^\\circ \\mathrm{C}$',\\\n",
      "      r'$400\\ ^\\circ \\mathrm{C}$',\\\n",
      "      r'$600\\ ^\\circ \\mathrm{C}$',\\\n",
      "      r'$700\\ ^\\circ \\mathrm{C}$',\\\n",
      "      r'$500\\ ^\\circ \\mathrm{C}$',\\\n",
      "      r'$300\\ ^\\circ \\mathrm{C}$',\\\n",
      "      r'$-180\\ ^\\circ \\mathrm{C}$',\\\n",
      "      r'$-100\\ ^\\circ \\mathrm{C}$',\\\n",
      "      r'$-50\\ ^\\circ \\mathrm{C}$',\\\n",
      "      r'$0\\ ^\\circ \\mathrm{C}$',\\\n",
      "      r'$30\\ ^\\circ \\mathrm{C}$']\n",
      "R6Tagging = MultiTOF(files, descriptions, Setup, 663, mode='Flux_vs_E')"
     ],
     "language": "python",
     "metadata": {},
     "outputs": []
    },
    {
     "cell_type": "code",
     "collapsed": false,
     "input": [
      "R6Tagging.plot(xlim=(0,3))"
     ],
     "language": "python",
     "metadata": {},
     "outputs": []
    },
    {
     "cell_type": "code",
     "collapsed": false,
     "input": [
      "R6_300deg = R6Tagging[3]\n",
      "R6_300deg.plot()"
     ],
     "language": "python",
     "metadata": {},
     "outputs": []
    },
    {
     "cell_type": "code",
     "collapsed": false,
     "input": [
      "R6_300deg.Fit.plot()"
     ],
     "language": "python",
     "metadata": {},
     "outputs": []
    },
    {
     "cell_type": "code",
     "collapsed": false,
     "input": [
      "moments, mean, variance = R6_300deg.Moments\n",
      "print mean, sqrt(variance)"
     ],
     "language": "python",
     "metadata": {},
     "outputs": []
    },
    {
     "cell_type": "heading",
     "level": 1,
     "metadata": {},
     "source": [
      "Usefull code snippets"
     ]
    },
    {
     "cell_type": "heading",
     "level": 2,
     "metadata": {},
     "source": [
      "File opening dialog using Tkinter"
     ]
    },
    {
     "cell_type": "code",
     "collapsed": false,
     "input": [
      "from helper import SelectFileDialog"
     ],
     "language": "python",
     "metadata": {},
     "outputs": []
    },
    {
     "cell_type": "raw",
     "metadata": {},
     "source": [
      "Uncomment the next Cell and run it..."
     ]
    },
    {
     "cell_type": "code",
     "collapsed": false,
     "input": [
      "#files = SelectFileDialog()\n",
      "#print files"
     ],
     "language": "python",
     "metadata": {},
     "outputs": []
    },
    {
     "cell_type": "heading",
     "level": 2,
     "metadata": {},
     "source": [
      "Construct filenames"
     ]
    },
    {
     "cell_type": "code",
     "collapsed": false,
     "input": [
      "from helper import construct_filename"
     ],
     "language": "python",
     "metadata": {},
     "outputs": []
    },
    {
     "cell_type": "code",
     "collapsed": false,
     "input": [
      "print construct_filename('1607', 1)"
     ],
     "language": "python",
     "metadata": {},
     "outputs": []
    },
    {
     "cell_type": "code",
     "collapsed": false,
     "input": [
      "print construct_filename('1607', range(10))"
     ],
     "language": "python",
     "metadata": {},
     "outputs": []
    },
    {
     "cell_type": "heading",
     "level": 1,
     "metadata": {},
     "source": [
      "Clean this up"
     ]
    },
    {
     "cell_type": "code",
     "collapsed": false,
     "input": [
      "ls"
     ],
     "language": "python",
     "metadata": {},
     "outputs": []
    },
    {
     "cell_type": "code",
     "collapsed": false,
     "input": [
      "rm -f file0406002.pdf"
     ],
     "language": "python",
     "metadata": {},
     "outputs": []
    },
    {
     "cell_type": "code",
     "collapsed": false,
     "input": [
      "rm -f file0406002.svg"
     ],
     "language": "python",
     "metadata": {},
     "outputs": []
    },
    {
     "cell_type": "code",
     "collapsed": false,
     "input": [
      "rm -f Setup1.pdf"
     ],
     "language": "python",
     "metadata": {},
     "outputs": []
    },
    {
     "cell_type": "code",
     "collapsed": false,
     "input": [
      "rm -f temp.dat"
     ],
     "language": "python",
     "metadata": {},
     "outputs": []
    },
    {
     "cell_type": "code",
     "collapsed": false,
     "input": [
      "rm -f 0406003manual.pdf"
     ],
     "language": "python",
     "metadata": {},
     "outputs": []
    },
    {
     "cell_type": "code",
     "collapsed": false,
     "input": [],
     "language": "python",
     "metadata": {},
     "outputs": []
    }
   ],
   "metadata": {}
  }
 ]
}