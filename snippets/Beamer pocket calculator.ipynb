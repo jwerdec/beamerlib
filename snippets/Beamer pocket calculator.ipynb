{
 "metadata": {
  "name": "Beamer pocket calculator"
 },
 "nbformat": 3,
 "nbformat_minor": 0,
 "worksheets": [
  {
   "cells": [
    {
     "cell_type": "markdown",
     "metadata": {},
     "source": [
      "Preamble"
     ]
    },
    {
     "cell_type": "code",
     "collapsed": false,
     "input": [
      "%pylab inline\n",
      "%load_ext physics\n",
      "from __future__ import division\n",
      "from matplotlib.pyplot import plot\n",
      "import matplotlib.pyplot as plt\n",
      "import numpy as np\n",
      "from numpy import sqrt, cos, sin, log, exp\n",
      "from lmfit import lmfit\n",
      "from matplotlib.path import Path\n",
      "import matplotlib.patches as patches \n",
      "import scipy.constants as const\n",
      "matplotlib.rcParams.update({'font.size': 14, 'font.family': 'serif'})"
     ],
     "language": "python",
     "metadata": {},
     "outputs": [
      {
       "output_type": "stream",
       "stream": "stdout",
       "text": [
        "\n",
        "Welcome to pylab, a matplotlib-based Python environment [backend: module://IPython.zmq.pylab.backend_inline].\n",
        "For more information, type 'help(pylab)'.\n"
       ]
      },
      {
       "output_type": "stream",
       "stream": "stdout",
       "text": [
        "Unit calculation and physics extensions activated.\n"
       ]
      }
     ],
     "prompt_number": 1
    },
    {
     "cell_type": "heading",
     "level": 1,
     "metadata": {},
     "source": [
      "Idler Wavelength"
     ]
    },
    {
     "cell_type": "markdown",
     "metadata": {},
     "source": [
      "Eine elektromagnetische Welle $\\mathbf{E}$, die auf ein dielekrisches Medium f\u00e4llt, erzeugt eine dielektrische Polarisation\n",
      "$$ \\mathbf{P}(E) = \\varepsilon_0 (\\chi^{(1)}\\mathbf{E} + \\chi^{(2)}\\mathbf{E}^2 + \\chi^{(3)}\\mathbf{E}^3 + \\ldots )$$\n",
      "mit Suszeptibilit\u00e4t n-ter Ordnung $\\chi^{(n)}$.\n"
     ]
    },
    {
     "cell_type": "heading",
     "level": 2,
     "metadata": {},
     "source": [
      "DFG"
     ]
    },
    {
     "cell_type": "markdown",
     "metadata": {},
     "source": [
      "$$\\omega_\\mathrm{DF} =  \\omega_1 - \\omega_2 $$\n",
      "$$ \\omega_1 = \\omega_2 + \\omega_\\mathrm{DF}, $$ \n",
      "where $\\omega_1 > \\omega_2$"
     ]
    },
    {
     "cell_type": "code",
     "collapsed": false,
     "input": [
      "def dfg(lambda1, lambda2=None, dfg=None):\n",
      "    \"\"\"\n",
      "    lambda1, lambda2, dfg: Wavelength of the waves in nm.\n",
      "    Notice that lambda1 > lambda2 when calculating lambda2 from lambda1 and dfg.\n",
      "    \"\"\"\n",
      "    if dfg == None:\n",
      "        return 1/(abs(1/lambda1 - 1/lambda2))\n",
      "    else:\n",
      "        f2 = 1/lambda1 + 1/dfg\n",
      "        return 1/f2"
     ],
     "language": "python",
     "metadata": {},
     "outputs": [],
     "prompt_number": 6
    },
    {
     "cell_type": "code",
     "collapsed": false,
     "input": [
      "print dfg(1064, 688)\n",
      "print dfg(1064, dfg=1950)"
     ],
     "language": "python",
     "metadata": {},
     "outputs": [
      {
       "output_type": "stream",
       "stream": "stdout",
       "text": [
        "1946.89361702\n",
        "688.387524884\n"
       ]
      }
     ],
     "prompt_number": 7
    },
    {
     "cell_type": "heading",
     "level": 2,
     "metadata": {},
     "source": [
      "OPA"
     ]
    },
    {
     "cell_type": "code",
     "collapsed": false,
     "input": [
      "def idler(pump, signal=None, idler=None):\n",
      "    \"\"\"\n",
      "    pump, signal, idler: Wavelength of the waves in nm.\n",
      "    \"\"\"\n",
      "    if idler == None:\n",
      "        return dfg(pump, signal)\n",
      "    else:\n",
      "        return dfg(pump, dfg=-idler)"
     ],
     "language": "python",
     "metadata": {},
     "outputs": [],
     "prompt_number": 8
    },
    {
     "cell_type": "code",
     "collapsed": false,
     "input": [
      "print idler(1064, dfg(1064, 688))\n",
      "print idler(1064, idler=2346)"
     ],
     "language": "python",
     "metadata": {},
     "outputs": [
      {
       "output_type": "stream",
       "stream": "stdout",
       "text": [
        "2346.25641026\n",
        "1947.07020281\n"
       ]
      }
     ],
     "prompt_number": 9
    },
    {
     "cell_type": "code",
     "collapsed": false,
     "input": [],
     "language": "python",
     "metadata": {},
     "outputs": [],
     "prompt_number": 25
    }
   ],
   "metadata": {}
  }
 ]
}